{
 "cells": [
  {
   "cell_type": "code",
   "execution_count": 1,
   "id": "7961b4ad-f180-4783-a3ba-a2b956dd6c07",
   "metadata": {},
   "outputs": [],
   "source": [
    "import os\n",
    "import langchain\n",
    "from langchain.llms import OpenAI\n",
    "from langchain.chains import LLMChain\n",
    "from langchain.chains import SimpleSequentialChain\n",
    "from langchain.chains import SequentialChain"
   ]
  },
  {
   "cell_type": "code",
   "execution_count": 3,
   "id": "da6b8a55-5c7d-48dc-95dc-d892afda1574",
   "metadata": {},
   "outputs": [],
   "source": []
  },
  {
   "cell_type": "code",
   "execution_count": 4,
   "id": "c1e658a0-93e1-400d-aa04-7c232679ec42",
   "metadata": {},
   "outputs": [],
   "source": [
    "os.environ['OPENAI_API_KEY']='sk-'\n",
    "llm=OpenAI(temperature=0.6)"
   ]
  },
  {
   "cell_type": "code",
   "execution_count": 7,
   "id": "150c3753-116e-40f1-afa9-761f3fa8695d",
   "metadata": {},
   "outputs": [
    {
     "data": {
      "text/plain": [
       "'\\n\\n\"La Cocina Mexicana\" or \"El Sabor de México\"'"
      ]
     },
     "execution_count": 7,
     "metadata": {},
     "output_type": "execute_result"
    }
   ],
   "source": [
    "llm=OpenAI(temperature=0.6)\n",
    "name=llm('Suggest me a name for mexican restaurant business idea ')\n",
    "name"
   ]
  },
  {
   "cell_type": "code",
   "execution_count": 8,
   "id": "76f67c9a-7c93-4ee9-bb48-be5f4a09aeb3",
   "metadata": {},
   "outputs": [
    {
     "data": {
      "text/plain": [
       "'Suggest me a name for American restaurant business idea '"
      ]
     },
     "execution_count": 8,
     "metadata": {},
     "output_type": "execute_result"
    }
   ],
   "source": [
    "from langchain.prompts import PromptTemplate\n",
    "\n",
    "prompt_template_name=PromptTemplate(\n",
    "    input_variables=['cuisines'],\n",
    "    template='Suggest me a name for {cuisines} restaurant business idea '\n",
    ")\n",
    "prompt_template_name.format(cuisines='American')"
   ]
  },
  {
   "cell_type": "code",
   "execution_count": 9,
   "id": "1fd63891-3984-48f7-86d1-4e7f5a5470c2",
   "metadata": {},
   "outputs": [],
   "source": [
    "from langchain.chains import LLMChain"
   ]
  },
  {
   "cell_type": "code",
   "execution_count": 11,
   "id": "bc1837da-3339-47ba-9544-ad1764927475",
   "metadata": {},
   "outputs": [
    {
     "name": "stderr",
     "output_type": "stream",
     "text": [
      "C:\\Users\\D\\anaconda3\\Lib\\site-packages\\langchain_core\\_api\\deprecation.py:117: LangChainDeprecationWarning: The function `run` was deprecated in LangChain 0.1.0 and will be removed in 0.2.0. Use invoke instead.\n",
      "  warn_deprecated(\n"
     ]
    },
    {
     "data": {
      "text/plain": [
       "'\\n1. \"Sahara Spice\"\\n2. \"Aladdin\\'s Kitchen\"\\n3. \"Arabian Nights Bistro\"\\n4. \"Cairo Cuisine\"\\n5. \"Desert Delights\"\\n6. \"Oasis Eats\"\\n7. \"Sultan\\'s Table\"\\n8. \"Falafel Palace\"\\n9. \"Majestic Mezza\"\\n10. \"Kings and Kebabs\"'"
      ]
     },
     "execution_count": 11,
     "metadata": {},
     "output_type": "execute_result"
    }
   ],
   "source": [
    "chain=LLMChain(llm=llm,prompt=prompt_template_name)\n",
    "chain.run({'cuisines':'Arabic'})"
   ]
  },
  {
   "cell_type": "code",
   "execution_count": 12,
   "id": "58502ff7-e875-4752-96e1-311001b1f884",
   "metadata": {},
   "outputs": [],
   "source": [
    "from langchain.chains import SimpleSequentialChain"
   ]
  },
  {
   "cell_type": "code",
   "execution_count": 17,
   "id": "5eb9172f-b284-435c-ae43-670e95fe9bba",
   "metadata": {},
   "outputs": [],
   "source": [
    "prompt_template_name=PromptTemplate(\n",
    "    input_variables=['cuisines'],\n",
    "    template='Suggest me a name for {cuisines} restaurant business idea '\n",
    ")\n",
    "\n",
    "prompt_template_items=PromptTemplate(\n",
    "    input_variables=['restaurant_name'],\n",
    "    template='Suggest me a items for menu for {restaurant_name} restaurant business idea,just give comma seperated values '\n",
    ")\n",
    "\n",
    "\n",
    "chain_name=LLMChain(llm=llm,prompt=prompt_template_name)\n",
    "chain_items=LLMChain(llm=llm,prompt=prompt_template_items)"
   ]
  },
  {
   "cell_type": "code",
   "execution_count": 18,
   "id": "f3af9232-fe2b-4e77-a633-76e3be209dfb",
   "metadata": {},
   "outputs": [
    {
     "name": "stdout",
     "output_type": "stream",
     "text": [
      "\n",
      "\n",
      "1. Hummus Platter, Baba Ganoush, Lamb Kebabs, Chicken Shawarma, Falafel Wrap, Tabouleh Salad, Baklava\n",
      "2. Moroccan Tagine, Spicy Harissa Chicken, Couscous Salad, Lamb Kofta, Za'atar Roasted Vegetables, Baklava Cheesecake\n",
      "3. Mezza Platter, Kibbeh, Spinach Fatayer, Fattoush Salad, Shish Tawook, Date Ma'amoul\n",
      "4. Spiced Lamb Kebabs, Shawarma Plate, Stuffed Grape Leaves, Lentil Soup, Fattoush Salad, Baklava\n",
      "5. Falafel Platter, Shawarma Wrap, Tabouleh Salad, Kibbeh, Baba Ganoush, Kunafa\n",
      "6. Za'atar Chicken Skewers, Lamb Kofta, Za'atar Fries, Fatoush Salad, Spinach and Feta Borek, Pistachio Baklava\n",
      "7. Lamb Tagine, Harissa Spiced Shrimp, Chicken Kebabs, Fattoush Salad, Baklava Cheesecake, Moroccan Mint Tea\n",
      "8. Shawarma Plate, Beef Kebabs, Fal\n"
     ]
    }
   ],
   "source": [
    "chainss=SimpleSequentialChain(chains=[chain_name,chain_items])\n",
    "result=chainss.run('Arabic')\n",
    "print(result)"
   ]
  },
  {
   "cell_type": "code",
   "execution_count": 19,
   "id": "5f8276d9-8191-4f5d-872e-275826ba205a",
   "metadata": {},
   "outputs": [],
   "source": [
    "from langchain.chains import SequentialChain"
   ]
  },
  {
   "cell_type": "code",
   "execution_count": 21,
   "id": "c6e6f5c6-b04f-46ee-b207-cee3504bbea3",
   "metadata": {},
   "outputs": [],
   "source": [
    "prompt_template_name=PromptTemplate(\n",
    "    input_variables=['cuisines'],\n",
    "    template='Suggest me a name for {cuisines} restaurant business idea '\n",
    ")\n",
    "\n",
    "prompt_template_items=PromptTemplate(\n",
    "    input_variables=['restaurant_name'],\n",
    "    template='Suggest me a items for menu for {restaurant_name} restaurant business idea,just give comma seperated values '\n",
    ")\n",
    "\n",
    "\n",
    "chain_name=LLMChain(llm=llm,prompt=prompt_template_name,output_key='restaurant_name')\n",
    "chain_items=LLMChain(llm=llm,prompt=prompt_template_items,output_key='menu_items')"
   ]
  },
  {
   "cell_type": "code",
   "execution_count": 26,
   "id": "ae0324e6-0f5e-40f5-ad9a-412fcbcc22e6",
   "metadata": {},
   "outputs": [
    {
     "data": {
      "text/plain": [
       "{'cuisines': 'meditterean',\n",
       " 'restaurant_name': '\\n\\n\"Olive & Vine\" or \"Mediterraneo Bistro\"',\n",
       " 'menu_items': '\\n\\n1. Mezze Platter: A selection of traditional Mediterranean dips and spreads, served with pita bread and vegetables.\\n2. Grilled Octopus: Tender and flavorful octopus served with a lemon and herb marinade.\\n3. Lamb Kebabs: Skewers of marinated lamb, grilled to perfection.\\n4. Spanakopita: Traditional Greek spinach and feta pie.\\n5. Moussaka: Layers of eggplant, potatoes, and ground beef topped with a creamy béchamel sauce.\\n6. Falafel Wrap: Crispy chickpea patties, lettuce, tomato, and tahini sauce wrapped in a warm pita.\\n7. Seafood Paella: A classic Spanish rice dish with shrimp, mussels, clams, and chorizo.\\n8. Chicken Shawarma: Thinly sliced marinated chicken, served with pita bread and garlic sauce.\\n9. Greek Salad: Fresh greens, tomatoes, cucumber, olives, feta cheese, and a lemon vinaigrette dressing.\\n10. Baklava: Layers of flaky phyllo dough filled with nuts and honey syrup.\\n11. Tzatziki: A refreshing yogurt and cucumber dip, perfect for dipping pita bread or vegetables.\\n'}"
      ]
     },
     "execution_count": 26,
     "metadata": {},
     "output_type": "execute_result"
    }
   ],
   "source": [
    "chaining=SequentialChain(chains=[chain_name,chain_items],input_variables=['cuisines'],output_variables=['restaurant_name','menu_items'])\n",
    "resulting=chaining({'cuisines':'meditterean'})\n",
    "resulting"
   ]
  },
  {
   "cell_type": "code",
   "execution_count": null,
   "id": "4306bf46-db5e-4020-96ab-2e67e6e1ee18",
   "metadata": {},
   "outputs": [],
   "source": [
    "##############################****************************************************************************************##################################"
   ]
  },
  {
   "cell_type": "code",
   "execution_count": null,
   "id": "f4b3ccc1-ae39-4f68-a18c-7db242a3c9ab",
   "metadata": {},
   "outputs": [],
   "source": []
  },
  {
   "cell_type": "code",
   "execution_count": 31,
   "id": "dc7a52eb-01d9-4641-81d6-850fd350536a",
   "metadata": {},
   "outputs": [],
   "source": []
  },
  {
   "cell_type": "code",
   "execution_count": null,
   "id": "91463e93-cd8b-40c1-9ab4-b108a77e20da",
   "metadata": {},
   "outputs": [],
   "source": []
  },
  {
   "cell_type": "code",
   "execution_count": null,
   "id": "bb81bd9b-a7a1-4650-8d30-18b92ca88b7f",
   "metadata": {},
   "outputs": [],
   "source": []
  },
  {
   "cell_type": "code",
   "execution_count": null,
   "id": "ee451448-9b2d-4dd4-96ce-c0bcba620e37",
   "metadata": {},
   "outputs": [],
   "source": []
  },
  {
   "cell_type": "code",
   "execution_count": null,
   "id": "ff43c9a9-f840-44a0-88b3-f99276cea523",
   "metadata": {},
   "outputs": [],
   "source": []
  }
 ],
 "metadata": {
  "kernelspec": {
   "display_name": "Python 3 (ipykernel)",
   "language": "python",
   "name": "python3"
  },
  "language_info": {
   "codemirror_mode": {
    "name": "ipython",
    "version": 3
   },
   "file_extension": ".py",
   "mimetype": "text/x-python",
   "name": "python",
   "nbconvert_exporter": "python",
   "pygments_lexer": "ipython3",
   "version": "3.11.5"
  }
 },
 "nbformat": 4,
 "nbformat_minor": 5
}
